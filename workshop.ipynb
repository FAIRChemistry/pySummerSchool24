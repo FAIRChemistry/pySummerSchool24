{
 "cells": [
  {
   "cell_type": "markdown",
   "metadata": {},
   "source": [
    "<div>\n",
    "<img src=\"img/CRC1333_long.png\" style=\"float: right\" height=\"150\"/>\n",
    "</div>\n",
    "\n",
    "<div>\n",
    "<img src=\"img/RDM_course_2024_alpha_crop.png\" height=\"150\"/>\n",
    "</div>\n",
    "\n",
    "# **CRC 1333 Summer School 2024**\n",
    "\n",
    "## **Workshop: Python for Beginners**\n",
    "\n",
    "> **2024-10-01**\n",
    "\n",
    "---"
   ]
  },
  {
   "cell_type": "markdown",
   "metadata": {},
   "source": [
    "Welcome to this **Jupyter Notebook**!\n",
    "\n",
    "Jupyter is a coding environment that combines documentation and code which is very suitable for micropublications and to explain code. It is a new fundamental in scientific scripting that aids reproduciblity. Ultimately, Jupyter can help understanding what has been done better than a plain script.\n",
    "\n",
    "There are two types of cells:\n",
    "- **Code**: Here the actual code will be executed\n",
    "- **Markdown**: Explanations and any kind of text that helps understanding the code\n",
    "\n",
    "Each code cell can be executed individually by using the **play-button** or the key-combo `shift` `+` `enter`. New cells can be added by using the **plus-button (+)** or the key-combo `alt` `+` `enter` which will execute the current cell and add a new one.\n"
   ]
  },
  {
   "cell_type": "markdown",
   "metadata": {},
   "source": [
    "### 1 - Python fundamentals"
   ]
  },
  {
   "cell_type": "markdown",
   "metadata": {},
   "source": [
    "Python is a high-level programming language that is widely used in scientific computing. It is known for its readability and ease of use. High-level means that Python is abstracted from the machine code, meaning it resembles human language more closely, and is therefore easier to read and write. Python is an interpreted language, which means that the code is executed line by line. This is different from compiled languages like C or Fortran, where the code is translated into machine code before execution. This makes Python slower than compiled languages, but also easier to use as you can directly see the results of your code. It is one of the most popular programming languages in the world and is used in a wide range of scientific applications."
   ]
  },
  {
   "cell_type": "markdown",
   "metadata": {},
   "source": [
    "#### 1.1 - Python as a calculator"
   ]
  },
  {
   "cell_type": "code",
   "execution_count": null,
   "metadata": {},
   "outputs": [],
   "source": [
    "# You can just use Python to calculate stuff, no special syntax needed\n",
    "2 * 2"
   ]
  },
  {
   "cell_type": "markdown",
   "metadata": {},
   "source": [
    "#### 1.2 Variables"
   ]
  },
  {
   "cell_type": "markdown",
   "metadata": {
    "vscode": {
     "languageId": "markdown"
    }
   },
   "source": [
    "Variables are used to store data that can be accessed and manipulated later in the code. They act as \"containers\" or \"sticky notes\" for data values. The are one of the most essential concepts in programming.\n",
    "\n",
    "- **Naming**: Variable names should be descriptive and meaningful. They can contain letters, numbers, and underscores, but must start with a letter or an underscore.\n",
    "- **Assignment**: Use the `=` operator to assign a value to a variable. For example, `x = 5` assigns the value `5` to the variable `x`.\n",
    "- **Types**: Variables can store different types of data, such as numbers, strings, lists, and more. Python is dynamically typed, meaning you don't need to declare the type of a variable explicitly.\n",
    "- **Reassignment**: You can change the value of a variable by assigning a new value to it."
   ]
  },
  {
   "cell_type": "code",
   "execution_count": null,
   "metadata": {},
   "outputs": [],
   "source": [
    "number = 2 * 2\n",
    "\n",
    "# Jupyter notebooks can print the last line of code\n",
    "number"
   ]
  },
  {
   "cell_type": "code",
   "execution_count": null,
   "metadata": {},
   "outputs": [],
   "source": [
    "# But in a script, you would need to use the print function\n",
    "print(number)"
   ]
  },
  {
   "cell_type": "code",
   "execution_count": null,
   "metadata": {},
   "outputs": [],
   "source": [
    "# Use variables like you would use numbers\n",
    "another_number = 20\n",
    "\n",
    "multiplication_result = number * another_number\n",
    "\n",
    "multiplication_result"
   ]
  },
  {
   "cell_type": "code",
   "execution_count": null,
   "metadata": {},
   "outputs": [],
   "source": [
    "# There are many operators in Python\n",
    "\n",
    "# Division\n",
    "division_result = 80 / another_number\n",
    "print(\"Division: \", division_result)\n",
    "\n",
    "# Exponents\n",
    "power_result = 80 ** 2\n",
    "print(\"Exponent: \", power_result)\n",
    "\n",
    "# Modulo\n",
    "modulo_result = 80 % 2\n",
    "print(\"Modulo: \", modulo_result)\n",
    "\n",
    "# There are, of course, many more operators!"
   ]
  },
  {
   "cell_type": "code",
   "execution_count": null,
   "metadata": {},
   "outputs": [],
   "source": [
    "# Variables do not have to be numbers\n",
    "string = \"We call text 'strings' in programming!\"\n",
    "\n",
    "string"
   ]
  },
  {
   "cell_type": "code",
   "execution_count": null,
   "metadata": {},
   "outputs": [],
   "source": [
    "# There are special string operations, like concatenation (combining strings)\n",
    "string1 = \"Hello, \"\n",
    "string2 = \"World!\"\n",
    "\n",
    "string1 + string2"
   ]
  },
  {
   "cell_type": "markdown",
   "metadata": {},
   "source": [
    "#### 1.3 Lists"
   ]
  },
  {
   "cell_type": "markdown",
   "metadata": {},
   "source": [
    "Lists are a fundamental data structure in Python that can be used to store a collection of items.\n",
    "\n",
    "- Contains a sequence of arbitrary data types\n",
    "- Started with `[` followd by comma-separated entries and closed by `]`\n",
    "- Individual entries can be accessed using indicies\n",
    "- Order is important"
   ]
  },
  {
   "cell_type": "code",
   "execution_count": 9,
   "metadata": {},
   "outputs": [],
   "source": [
    "# Let us assume three variables (that may have been measured)\n",
    "time1 = 0.0\n",
    "time2 = 2.0\n",
    "time3 = 5.0"
   ]
  },
  {
   "cell_type": "code",
   "execution_count": null,
   "metadata": {},
   "outputs": [],
   "source": [
    "# Lists are arrays of things\n",
    "measurement = [0.0, 2.0]\n",
    "\n",
    "print(measurement)"
   ]
  },
  {
   "cell_type": "code",
   "execution_count": null,
   "metadata": {},
   "outputs": [],
   "source": [
    "# Lists can be empty\n",
    "empty_list = []\n",
    "\n",
    "empty_list"
   ]
  },
  {
   "cell_type": "code",
   "execution_count": null,
   "metadata": {},
   "outputs": [],
   "source": [
    "# You can add things to a list\n",
    "measurement.append(time3)\n",
    "\n",
    "print(measurement)"
   ]
  },
  {
   "cell_type": "code",
   "execution_count": null,
   "metadata": {},
   "outputs": [],
   "source": [
    "# You can access elements of a list by their index, starting from 0 and\n",
    "# by using square brackets\n",
    "print(measurement[0])\n",
    "\n",
    "# You can also access list elements starting from the end using -1\n",
    "print(measurement[-1])"
   ]
  },
  {
   "cell_type": "markdown",
   "metadata": {},
   "source": [
    "#### 1.4 Dictionaries"
   ]
  },
  {
   "cell_type": "markdown",
   "metadata": {},
   "source": [
    "- Associate a `key` with a `value`\n",
    "- Can be regarded as a collection of \"sticky notes\"\n",
    "- Behaves similar to a list, but that the indices are generalized to custom indices\n",
    "- Order is not important, but keys must be unique"
   ]
  },
  {
   "cell_type": "code",
   "execution_count": null,
   "metadata": {},
   "outputs": [],
   "source": [
    "projects = {\n",
    "    \"Liam\": \"B06\",\n",
    "    \"Alex\": \"C03\",\n",
    "    \"Ruba\": \"A04\",\n",
    "    \"Max\": \"INF\"\n",
    "}\n",
    "\n",
    "projects"
   ]
  },
  {
   "cell_type": "code",
   "execution_count": null,
   "metadata": {},
   "outputs": [],
   "source": [
    "print(f\"Ruba's project is {projects[\"Ruba\"]}.\")"
   ]
  },
  {
   "cell_type": "code",
   "execution_count": null,
   "metadata": {},
   "outputs": [],
   "source": [
    "# The values in a dictionary can be lists\n",
    "projects[\"Prof. Buchmeiser\"] = [\"MGK\", \"Z01\"]\n",
    "\n",
    "projects"
   ]
  },
  {
   "cell_type": "markdown",
   "metadata": {},
   "source": [
    "#### 1.5 The `for` loop"
   ]
  },
  {
   "cell_type": "markdown",
   "metadata": {
    "vscode": {
     "languageId": "raw"
    }
   },
   "source": [
    "<img src=\"https://media.geeksforgeeks.org/wp-content/uploads/20191101172216/for-loop-python.jpg\"/>\n",
    "\n",
    "- Used to dynamically iterate over each entry in a list or dictionary\n",
    "- Helps solve the problem of individual accessing a list\n",
    "- Most used loop in Python and straightforward\n",
    "\n",
    "**Procedure**\n",
    "\n",
    "1. The for-loop \"pulls\" an entry per round from the list.\n",
    "2. Stored in the \"variable scope\" to the name you've chosen, e.g. `variable`.\n",
    "3. Inside the \"body\", operations can be executed as usual."
   ]
  },
  {
   "cell_type": "markdown",
   "metadata": {},
   "source": [
    "Start a loop with the `for` keyword, followed by a variable name, the `in` keyword, an iterable (like a list), and a colon `:`.\n",
    "The body of the loop is indented by four spaces.  \n",
    "Indentation is important, as it tells Python what the code block is that is to be executed in each iteration of the loop. The code block is executed for each element in the iterable. The current element is accessible through the variable name defined after the \"for\" keyword.  \n",
    "\n",
    "```python\n",
    "for variable in iterable:\n",
    "    # Do something with variable\n",
    "```"
   ]
  },
  {
   "cell_type": "code",
   "execution_count": null,
   "metadata": {},
   "outputs": [],
   "source": [
    "# Let us assume a list of sidelengths of squares\n",
    "sidelengths_of_squares = [1, 2, 3, 5, 8, 13, 21]\n",
    "\n",
    "# Into the loop we go!\n",
    "for sidelength in sidelengths_of_squares:\n",
    "\n",
    "    # We calculate the area of the square and print it for each sidelength\n",
    "    area_of_square = sidelength ** 2\n",
    "    print(f\"The area of a square with sidelength {sidelength} is {area_of_square}.\")\n",
    "    \n",
    "print(\"This is not indented, so it is not part of the loop!\")"
   ]
  },
  {
   "cell_type": "markdown",
   "metadata": {},
   "source": [
    "---\n",
    "\n",
    "### 2 - Titration study\n",
    "\n",
    "In this \"study\", we simulate the **titration of hydrochloric acid (HCl)** of unknown concentration **with sodium hydroxide solution (NaOH)**. Given that both HCl and NaOH are strong acid and base, it makes finding the equivalence point and calculating the concentration of the HCl rather easy – perfect for this example.\n",
    "\n",
    "**Simulated Experiment**\n",
    "\n",
    "Consider 100 aqueous HCl solutions of 50 ml with unknown concentrations. They have been titrated with a 0.2 molar solution of NaOH and both the volume of NaOH solution used and the measured pH were recorded. The objectives are:\n",
    "\n",
    "- Load a larger dataset into Python\n",
    "- Visualize pH curves for each titration.\n",
    "- Write a function to find the equivalence point of an easy titration curve.\n",
    "- Calculate the concentration of HCl for each solution.\n",
    "- Take a look at the statistics of the dataset."
   ]
  },
  {
   "cell_type": "markdown",
   "metadata": {},
   "source": [
    "#### 2.1 - Load data"
   ]
  },
  {
   "cell_type": "markdown",
   "metadata": {},
   "source": [
    "Max and I have already prepared the data for this titration study. The Jupyter Hub allows to upload files directly to the university server, allowing to access data within the Jupyter environment. For today we will skip this step and load the prepared data from GitHub. We will pull it from a GitHub repository that Max and I have prepared for this workshop. Talking in depth about GitHub is beyond the scope of this workshop, but it is a platform for version control and collaboration. It is widely used in software development and data science. In this case, we will use it to store the data for this workshop."
   ]
  },
  {
   "cell_type": "code",
   "execution_count": null,
   "metadata": {},
   "outputs": [],
   "source": [
    "# Get data from GitHub\n",
    "!git clone --quiet https://github.com/FAIRChemistry/pySummerSchool24\n",
    "%cd pySummerSchool24"
   ]
  },
  {
   "cell_type": "markdown",
   "metadata": {},
   "source": [
    "#### 2.2 - Import libraries"
   ]
  },
  {
   "cell_type": "markdown",
   "metadata": {},
   "source": [
    "Usually, the first step in any Python script is to install and import the required libraries. A library is a collection of functions and methods that allows you to perform many actions without writing your own code. One huge advantage of Python is the vast number of libraries already available for different tasks. For data analysis and visualization, the most important libraries are `numpy`, `pandas`, and `matplotlib`, which we will use in this workshop. They enhance Python's capabilities and make it easier to work with various data.  \n",
    "\n",
    "- **numpy**: Provides support for large, multi-dimensional arrays and matrices, along with a collection of mathematical functions to operate on these arrays.\n",
    "- **pandas**: Provides data structures and data analysis tools for Python. It is built on top of numpy and makes it easier to work with even the largest data.\n",
    "- **matplotlib**: A plotting library for Python and its numerical mathematics extension `numpy`. It provides an object-oriented API for embedding plots into applications."
   ]
  },
  {
   "cell_type": "code",
   "execution_count": 19,
   "metadata": {},
   "outputs": [],
   "source": [
    "import matplotlib.pyplot as plt\n",
    "import numpy as np\n",
    "import pandas as pd"
   ]
  },
  {
   "cell_type": "markdown",
   "metadata": {},
   "source": [
    "#### 2.3 - Read data"
   ]
  },
  {
   "cell_type": "markdown",
   "metadata": {},
   "source": [
    "First, we will read the data from the file into a `pandas` `DataFrame`. You can think of a DataFrame as a table with rows and columns, similar to an Excel spreadsheet. It is a powerful data structure that makes it easy to work with data in Python. "
   ]
  },
  {
   "cell_type": "code",
   "execution_count": null,
   "metadata": {},
   "outputs": [],
   "source": [
    "# Pandas has a special function making it easy to read CSV files\n",
    "df = pd.read_csv('data/titration_data.csv')\n",
    "df"
   ]
  },
  {
   "cell_type": "code",
   "execution_count": null,
   "metadata": {},
   "outputs": [],
   "source": [
    "# Let us also have a quick look at the data using the plot function\n",
    "df.plot(x='Volume NaOH / l', legend=False, ylabel='pH')\n",
    "plt.show()"
   ]
  },
  {
   "cell_type": "markdown",
   "metadata": {},
   "source": [
    "#### 2.4 - Data analysis"
   ]
  },
  {
   "cell_type": "markdown",
   "metadata": {},
   "source": [
    "To start with the data analysis, we of course need the concentration of the NaOH solution and the volume of the HCl samples for later use – so we store them in two variable. Also, we extract the list of NaOH volumes used in the titrations and save it in a variable for convenient access. We do something similar for the pH values, but since we have multiple titrations, we will store them in a dictionary instead of a list. This way, we can access the pH values for each titration using the titration name as a key and the values as a list."
   ]
  },
  {
   "cell_type": "code",
   "execution_count": 22,
   "metadata": {},
   "outputs": [],
   "source": [
    "NaOH_concentration = 0.2  # mol/l\n",
    "HCl_volume = 0.05         # l"
   ]
  },
  {
   "cell_type": "code",
   "execution_count": 23,
   "metadata": {},
   "outputs": [],
   "source": [
    "# With this we can get the list of volumes of NaOH from the DataFrame\n",
    "volume_naoh = df['Volume NaOH / l'].values"
   ]
  },
  {
   "cell_type": "code",
   "execution_count": 24,
   "metadata": {},
   "outputs": [],
   "source": [
    "# Here we generate the dictionary of titrations\n",
    "ph_dict = {col: df[col].values for col in df.columns[1:]}"
   ]
  },
  {
   "cell_type": "markdown",
   "metadata": {},
   "source": [
    "We now need a function that finds the equivalence point of a titration curve.  \n",
    "A function is a block of code that only runs when it is called. You can pass data, known as parameters, into a function. A function can return data as a result. Functions are a convenient way to divide your code into useful blocks, allowing us to order our code, make it more readable, reuse it, and save some time.  \n",
    "Writing the function for the equivalence point is not easy for beginners, so we will do it how it would most likely happen in real life: Use ChatGPT to generate the function for us. Below we have an example prompt that we could use to generate the function.\n",
    "\n",
    "**Prompt**:\n",
    "> Can you generate a Python function called \"find_equivalence_point\", with two arguments \"volume\" and \"ph\", that finds the equivalence point of a titration curve and returns the volume of the titrant at the equivalence point?"
   ]
  },
  {
   "cell_type": "code",
   "execution_count": 25,
   "metadata": {},
   "outputs": [],
   "source": [
    "# Code generated by ChatGPT will go here"
   ]
  },
  {
   "cell_type": "code",
   "execution_count": null,
   "metadata": {},
   "outputs": [],
   "source": [
    "# We can now use the new function to calculate the equivalence point\n",
    "HCl_eq_volume = find_equivalence_point(volume_naoh, ph_dict[\"Titration 1\"])\n",
    "print(HCl_eq_volume)"
   ]
  },
  {
   "cell_type": "code",
   "execution_count": null,
   "metadata": {},
   "outputs": [],
   "source": [
    "# Let us create a new dictionary to store the equivalence points\n",
    "equivalence_dict = {}\n",
    "\n",
    "# Using a loop we can easily calculate the equivalence points for all\n",
    "# 100 titrations in one step\n",
    "for titration_curve, ph_values in ph_dict.items():\n",
    "    equivalence_dict[titration_curve] = find_equivalence_point(volume_naoh, ph_values)\n",
    "\n",
    "print(equivalence_dict)"
   ]
  },
  {
   "cell_type": "code",
   "execution_count": null,
   "metadata": {},
   "outputs": [],
   "source": [
    "# It is the concentration of HCl that we are interested in, let us\n",
    "# create yet another dictionary to hold the results\n",
    "results = {}\n",
    "\n",
    "# Again, we use a loop to calculate the HCl concentration for each\n",
    "# titration and store it in the result dictionary\n",
    "for titration_curve, equivalence_volume in equivalence_dict.items():\n",
    "    HCl_concentration = (NaOH_concentration * equivalence_volume) / HCl_volume\n",
    "    results[titration_curve] = HCl_concentration\n",
    "\n",
    "print(results)"
   ]
  },
  {
   "cell_type": "markdown",
   "metadata": {},
   "source": [
    "#### 2.5 - Results"
   ]
  },
  {
   "cell_type": "markdown",
   "metadata": {},
   "source": [
    "After having our desired results (the concentrations of the HCl solutions), we can have some fun with the data. We can calculate some statistics, like the mean, median, and standard deviation of the HCl concentrations. We can find out, which solution had the highest and lowest concentration respectively. And we can also visualize the concentrations per solution in a bar plot."
   ]
  },
  {
   "cell_type": "code",
   "execution_count": 29,
   "metadata": {},
   "outputs": [],
   "source": [
    "# Some statistics\n",
    "mean_concentration = np.mean(list(results.values()))      # mean\n",
    "median_concentration = np.median(list(results.values()))  # median\n",
    "std_concentration = np.std(list(results.values()))        # standard deviation\n",
    "max_concentration = np.max(list(results.values()))        # maximum concentration\n",
    "max_titration_curve = max(results, key=results.get)   # titration curve with maximum concentration\n",
    "min_concentration = np.min(list(results.values()))        # minimum concentration\n",
    "min_titration_curve = min(results, key=results.get)   # titration curve with minimum concentration"
   ]
  },
  {
   "cell_type": "code",
   "execution_count": null,
   "metadata": {},
   "outputs": [],
   "source": [
    "print(\"*************************\")\n",
    "print(\"* Experiment statistics *\")\n",
    "print(\"*************************\")\n",
    "print(f\"The mean HCl concentration is {mean_concentration:.2f} mol/l.\")\n",
    "print(f\"The median HCl concentration is {median_concentration:.2f} mol/l.\")\n",
    "print(f\"The standard deviation of the HCl concentration is {std_concentration:.2f} mol/l.\")\n",
    "print(f\"The maximum HCl concentration of {max_concentration:.2f} mol/l is found in titration {max_titration_curve}.\")\n",
    "print(f\"The minimum HCl concentration of {min_concentration:.2f} mol/l is found in titration {min_titration_curve}.\")"
   ]
  },
  {
   "cell_type": "code",
   "execution_count": null,
   "metadata": {},
   "outputs": [],
   "source": [
    "plt.figure(figsize=(10, 5), dpi=300)\n",
    "plt.bar(results.keys(), results.values())\n",
    "plt.ylabel(\"HCl concentration / mol/l\")\n",
    "plt.xticks(rotation=90, fontsize=5)\n",
    "plt.show()"
   ]
  },
  {
   "cell_type": "markdown",
   "metadata": {},
   "source": [
    "#### 2.6 - Export data"
   ]
  },
  {
   "cell_type": "markdown",
   "metadata": {},
   "source": [
    "Finally, we can export the results to a file. This is useful if we want to share the results with others or use them in another program. We will export the results back to a CSV file, which is a common file format for storing tabular data."
   ]
  },
  {
   "cell_type": "code",
   "execution_count": 32,
   "metadata": {},
   "outputs": [],
   "source": [
    "with open(\"data/hcl_concentrations.csv\", \"w\") as f:\n",
    "    result_df = pd.DataFrame(results.items(), columns=[\"Experiment\", \"HCl concentration / mol/l\"])\n",
    "    result_df.to_csv(f, index=False)"
   ]
  },
  {
   "cell_type": "markdown",
   "metadata": {},
   "source": [
    "---\n",
    "\n",
    "### 3 - Summary"
   ]
  },
  {
   "cell_type": "markdown",
   "metadata": {},
   "source": [
    "We hope we could give you a short and useful introduction into Python. We believe that neither Python or Excel is superior, but that both are powerful tools which cater to different data analysis requirements. Using Excel for smaller datasets is efficient and easy, but with increasing data complexity or size you may find Python to be more flexible and to be a real time-saver!"
   ]
  },
  {
   "cell_type": "markdown",
   "metadata": {},
   "source": [
    "---"
   ]
  },
  {
   "cell_type": "code",
   "execution_count": null,
   "metadata": {},
   "outputs": [],
   "source": [
    "assert False, \"Stop! This is uncharted territory!\""
   ]
  },
  {
   "cell_type": "code",
   "execution_count": 1,
   "metadata": {},
   "outputs": [],
   "source": [
    "def find_equivalence_point(volume, ph):\n",
    "    \"\"\"\n",
    "    Finds the equivalence point of a titration curve.\n",
    "\n",
    "    Parameters:\n",
    "    - volume: List or numpy array of titrant volumes\n",
    "    - ph: List or numpy array of pH values corresponding to each volume\n",
    "\n",
    "    Returns:\n",
    "    - equivalence_volume: The volume at the equivalence point\n",
    "    \"\"\"\n",
    "    # Ensure inputs are numpy arrays\n",
    "    volume = np.array(volume)\n",
    "    ph = np.array(ph)\n",
    "\n",
    "    # Compute the first derivative of the pH curve (numerical differentiation)\n",
    "    dpH_dV = np.gradient(ph, volume)\n",
    "\n",
    "    # Find the index where the slope is the steepest (maximum derivative)\n",
    "    max_slope_index = np.argmax(dpH_dV)\n",
    "\n",
    "    # The equivalence point corresponds to the volume at this index\n",
    "    equivalence_volume = volume[max_slope_index]\n",
    "\n",
    "    return equivalence_volume"
   ]
  },
  {
   "cell_type": "code",
   "execution_count": null,
   "metadata": {},
   "outputs": [],
   "source": []
  }
 ],
 "metadata": {
  "kernelspec": {
   "display_name": "sasdev",
   "language": "python",
   "name": "python3"
  },
  "language_info": {
   "codemirror_mode": {
    "name": "ipython",
    "version": 3
   },
   "file_extension": ".py",
   "mimetype": "text/x-python",
   "name": "python",
   "nbconvert_exporter": "python",
   "pygments_lexer": "ipython3",
   "version": "3.12.4"
  }
 },
 "nbformat": 4,
 "nbformat_minor": 2
}
