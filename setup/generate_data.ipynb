{
 "cells": [
  {
   "cell_type": "markdown",
   "metadata": {},
   "source": [
    "# Wow, such empty"
   ]
  },
  {
   "cell_type": "markdown",
   "metadata": {},
   "source": [
    "## Imports yeah"
   ]
  },
  {
   "cell_type": "code",
   "execution_count": null,
   "metadata": {},
   "outputs": [],
   "source": [
    "import os\n",
    "\n",
    "import numpy as np\n",
    "import pandas as pd\n",
    "import matplotlib.pyplot as plt"
   ]
  },
  {
   "cell_type": "markdown",
   "metadata": {},
   "source": [
    "## Generator lol"
   ]
  },
  {
   "cell_type": "code",
   "execution_count": null,
   "metadata": {},
   "outputs": [],
   "source": [
    "# Constants\n",
    "volume_HCl = 50  # Volume of HCl in mL\n",
    "NaOH_concentration = 0.1  # Molar concentration of NaOH\n",
    "volumes_added = np.linspace(0, 100, 1000)  # Volume of NaOH added in mL (0 to 100 mL)\n",
    "\n",
    "# Directory to store generated files\n",
    "output_dir = \"titration_datasets\"\n",
    "os.makedirs(output_dir, exist_ok=True)\n",
    "\n",
    "# Function to calculate pH\n",
    "def calculate_pH(HCl_conc, NaOH_conc, V_HCl, V_NaOH_added):\n",
    "    # Moles of HCl initially\n",
    "    moles_HCl = HCl_conc * V_HCl / 1000  # in moles\n",
    "    \n",
    "    # Moles of NaOH added\n",
    "    moles_NaOH = NaOH_conc * V_NaOH_added / 1000  # in moles\n",
    "\n",
    "    # Before equivalence point: excess H+\n",
    "    if moles_NaOH < moles_HCl:\n",
    "        moles_H_remaining = moles_HCl - moles_NaOH\n",
    "        concentration_H = moles_H_remaining / (V_HCl + V_NaOH_added) * 1000\n",
    "        pH = -np.log10(concentration_H)\n",
    "    \n",
    "    # At equivalence point: pH = 7 (neutral solution)\n",
    "    elif np.isclose(moles_NaOH, moles_HCl, atol=1e-5):\n",
    "        pH = 7\n",
    "    \n",
    "    # After equivalence point: excess OH-\n",
    "    else:\n",
    "        moles_OH_excess = moles_NaOH - moles_HCl\n",
    "        concentration_OH = moles_OH_excess / (V_HCl + V_NaOH_added) * 1000\n",
    "        pOH = -np.log10(concentration_OH)\n",
    "        pH = 14 - pOH\n",
    "\n",
    "    return pH\n",
    "\n",
    "# Generate titration curves for 100 datasets\n",
    "for i in range(1, 101):\n",
    "    # Randomize concentration of HCl for each titration between 0.05 M and 1.0 M\n",
    "    HCl_concentration = np.random.uniform(0.05, 1.0)\n",
    "    \n",
    "    # Store pH values\n",
    "    pH_values = []\n",
    "\n",
    "    for V_NaOH in volumes_added:\n",
    "        pH = calculate_pH(HCl_concentration, NaOH_concentration, volume_HCl, V_NaOH)\n",
    "        pH_values.append(pH)\n",
    "    \n",
    "    # Create DataFrame\n",
    "    df = pd.DataFrame({\n",
    "        \"Volume NaOH (mL)\": volumes_added,\n",
    "        \"pH\": pH_values\n",
    "    })\n",
    "    \n",
    "    # Add some random noise to simulate real data (small fluctuations in pH)\n",
    "    df[\"pH\"] = df[\"pH\"] + np.random.normal(0, 0.05, df[\"pH\"].shape)\n",
    "    \n",
    "    # Save to CSV file\n",
    "    df.to_csv(os.path.join(output_dir, f\"titration_{i}.csv\"), index=False)\n",
    "\n",
    "print(\"Titration data generated successfully!\")"
   ]
  },
  {
   "cell_type": "markdown",
   "metadata": {},
   "source": [
    "## Sexy data is sexy"
   ]
  },
  {
   "cell_type": "code",
   "execution_count": null,
   "metadata": {},
   "outputs": [],
   "source": [
    "# Directory containing the titration datasets\n",
    "data_dir = \"titration_datasets\"\n",
    "\n",
    "# Initialize plot\n",
    "plt.figure(figsize=(10, 6))\n",
    "\n",
    "# Loop through the CSV files and plot each titration curve\n",
    "for filename in os.listdir(data_dir):\n",
    "    if filename.endswith(\".csv\"):\n",
    "        filepath = os.path.join(data_dir, filename)\n",
    "        df = pd.read_csv(filepath)\n",
    "        \n",
    "        # Plot titration curve\n",
    "        plt.plot(df[\"Volume NaOH (mL)\"], df[\"pH\"], label=filename.split('_')[1], alpha=0.5)\n",
    "\n",
    "# Add labels and title\n",
    "plt.xlabel(\"Volume of NaOH added (mL)\")\n",
    "plt.ylabel(\"pH\")\n",
    "plt.title(\"Simulated Titration Curves\")\n",
    "plt.grid(True)\n",
    "\n",
    "# Show plot\n",
    "plt.tight_layout()\n",
    "plt.show()"
   ]
  }
 ],
 "metadata": {
  "language_info": {
   "name": "python"
  }
 },
 "nbformat": 4,
 "nbformat_minor": 2
}
